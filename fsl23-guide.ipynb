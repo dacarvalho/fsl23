{
  "nbformat": 4,
  "nbformat_minor": 0,
  "metadata": {
    "colab": {
      "provenance": [],
      "include_colab_link": true
    },
    "kernelspec": {
      "name": "python3",
      "display_name": "Python 3"
    },
    "language_info": {
      "name": "python"
    }
  },
  "cells": [
    {
      "cell_type": "markdown",
      "metadata": {
        "id": "view-in-github",
        "colab_type": "text"
      },
      "source": [
        "<a href=\"https://colab.research.google.com/github/dacarvalho/fsl23/blob/master/fsl23_intro_to_yocto.ipynb\" target=\"_parent\"><img src=\"https://colab.research.google.com/assets/colab-badge.svg\" alt=\"Open In Colab\"/></a>"
      ]
    },
    {
      "cell_type": "markdown",
      "source": [
        "# Yocto Basic Setup"
      ],
      "metadata": {
        "id": "DEtErc0vF44e"
      }
    },
    {
      "cell_type": "markdown",
      "source": [
        "## 1. Setting up the build environment"
      ],
      "metadata": {
        "id": "PjA27at-GTs2"
      }
    },
    {
      "cell_type": "markdown",
      "source": [
        "### 1.1. Install Yocto Dependencies\n",
        "\n",
        "\n",
        "```shell\n",
        "$ sudo apt install gawk wget git diffstat unzip texinfo gcc build-essential chrpath socat cpio python3 python3-pip python3-pexpect xz-utils debianutils iputils-ping python3-git python3-jinja2 libegl1-mesa libsdl1.2-dev python3-subunit mesa-common-dev zstd liblz4-tool file locales\n",
        "$ sudo locale-gen en_US.UTF-8\n",
        "```\n"
      ],
      "metadata": {
        "id": "DGVOp_S_F_gC"
      }
    },
    {
      "cell_type": "markdown",
      "source": [
        "### 1.2. Prepare directory\n",
        "\n",
        "```shell\n",
        "$ mkdir yocto\n",
        "$ cd yocto\n",
        "$ mkdir {builds,layers}\n",
        "```\n"
      ],
      "metadata": {
        "id": "iH_hg_izGLgW"
      }
    },
    {
      "cell_type": "markdown",
      "source": [
        "### 1.3. Clone poky and other layers\n",
        "\n",
        "```shell\n",
        "$ git -C layers/ clone -b kirkstone git://git.yoctoproject.org/poky # Reference distribution and all yocto tools (bitbake, oe)\n",
        "$ git -C layers/ clone -b kirkstone https://github.com/agherzan/meta-raspberrypi.git # BSP layer for the RaspberryPi\n",
        "```"
      ],
      "metadata": {
        "id": "sGnLiCkkGN4j"
      }
    },
    {
      "cell_type": "markdown",
      "source": [
        "### 1.4. Create a new build environment\n",
        "```shell\n",
        "$ cd builds\n",
        "$ source ../layers/poky/oe-init-build-env <nome do diretório da build>\n",
        "```\n"
      ],
      "metadata": {
        "id": "tHCoszNcGQ_a"
      }
    },
    {
      "cell_type": "markdown",
      "source": [
        "## 2. Starting your first build"
      ],
      "metadata": {
        "id": "vaUIodqNHd4m"
      }
    },
    {
      "cell_type": "markdown",
      "source": [
        "### 2.1. Add new layers to the build\n",
        "\n",
        "```shell\n",
        "$ cat conf/bblayers.conf # Reparar nas layers que são adicionadas por default à build\n",
        "$ bitbake-layers add-layer ../../layers/meta-raspberrypi\n",
        "$ cat conf/bblayers.conf # Reparar na nova linha adicionada\n",
        "```"
      ],
      "metadata": {
        "id": "GDgr2tYoHnSC"
      }
    },
    {
      "cell_type": "markdown",
      "source": [
        "### 2.2. Choose build target\n",
        "```shell\n",
        "$ echo \"MACHINE = \\\"raspberrypi4-64\\\"\" >> conf/local.conf # Para RPi4\n",
        "$ echo \"MACHINE = \\\"beaglebone-yocto\\\"\" >> conf/local.conf # para Beaglebone\n",
        "```"
      ],
      "metadata": {
        "id": "pX6upLJnHzHb"
      }
    },
    {
      "cell_type": "markdown",
      "source": [
        "### 2.3. Add SSH server for remote access\n",
        "```shell\n",
        "$ sed -i 's/\\('EXTRA_IMAGE_FEATURES' ?= \"\\)[^\"]*/\\1'debug-tweaks\\ ssh-server-openssh'/' conf/local.conf\n",
        "```"
      ],
      "metadata": {
        "id": "--IXFaVuIDxl"
      }
    },
    {
      "cell_type": "markdown",
      "source": [
        "### 2.4. Exploring Bitbake\n",
        "```shell\n",
        "$ bitbake -c listtasks\n",
        "$ bitbake -s\n",
        "$ bitbake -e | less\n",
        "$ bitbake -v\n",
        "```"
      ],
      "metadata": {
        "id": "k0gDqXUnOPA5"
      }
    },
    {
      "cell_type": "markdown",
      "source": [
        "### 2.5. Build test image\n",
        "```shell\n",
        "$ bitbake rpi-test-image # Para RaspberryPi\n",
        "$ bitbake core-image-minimal # Para Beaglebone ou RaspberryPi\n",
        "```"
      ],
      "metadata": {
        "id": "oJr-bIYZIOah"
      }
    },
    {
      "cell_type": "markdown",
      "source": [
        "# Extending Yocto"
      ],
      "metadata": {
        "id": "6w7s0ezoIeRT"
      }
    },
    {
      "cell_type": "markdown",
      "source": [
        "## 1. Creating a new layer\n",
        "\n",
        "```shell\n",
        "$ bitbake-layers create-layer ../../layers/meta-feira\n",
        "```\n",
        "``` shell\n",
        "$ tree\n",
        "├── conf\n",
        "│   └── layer.conf\n",
        "├── COPYING.MIT\n",
        "├── README\n",
        "└── recipes-example\n",
        "    └── example\n",
        "        └── example_0.1.bb\n",
        "```\n",
        "```shell\n",
        "$ rm -rf recipes-example\n",
        "$ bitbake-layers add-layer ../../layers/meta-feira\n",
        "```"
      ],
      "metadata": {
        "id": "pjDFxyo1Ja8m"
      }
    },
    {
      "cell_type": "markdown",
      "source": [
        "## 2. Creating a recipe extension\n",
        "The `os-release` recipe  is part of the `meta` layer, located on the `recipes-core` directory. So:\n",
        "\n",
        "```shell\n",
        "$ mkdir -p recipes-core/os-release\n",
        "$ touch recipes-core/os-release/os-release.bbappend\n",
        "$ echo \"OS_RELEASE_FIELDS:append = \\\"MACHINE\\\"\" >> recipes-core/os-release/os-release.bbappend\n",
        "\n",
        "```"
      ],
      "metadata": {
        "id": "R4BW-C4OJx1u"
      }
    },
    {
      "cell_type": "markdown",
      "source": [
        "## 3. Developing a Web Server\n",
        "\n",
        "For the workshop we developed a very simple webserver, presented here. If you want to create your own software, feel free to.\n",
        "\n",
        "This webserver handles GET requests.\n",
        "\n",
        "```python\n",
        "#!/usr/bin/python3\n",
        "\n",
        "from http.server import BaseHTTPRequestHandler, HTTPServer\n",
        "import csv\n",
        "import pathlib\n",
        "\n",
        "hostName = \"0.0.0.0\"\n",
        "serverPort = 8080\n",
        "path = pathlib.Path(\"/etc/os-release\")\n",
        "with open(path) as buf:\n",
        "    reader = csv.reader(buf, delimiter=\"=\")\n",
        "    os_release = dict(reader)\n",
        "\n",
        "\n",
        "class MyServer(BaseHTTPRequestHandler):\n",
        "    def do_GET(self):\n",
        "        self.send_response(200)\n",
        "        self.send_header(\"Content-type\", \"text/html\")\n",
        "        self.end_headers()\n",
        "        self.wfile.write(bytes(\"<html><head><title>Yocto Workshop</title></head>\", \"utf-8\"))\n",
        "        self.wfile.write(bytes(\"<p>Request: %s</p>\" % self.path, \"utf-8\"))\n",
        "        self.wfile.write(bytes(\"<body>\", \"utf-8\"))\n",
        "        self.wfile.write(bytes(\"<p>This server is running on {machine}</p>\".format(machine=os_release.get(\"MACHINE\", \"unknown\")), \"utf-8\"))\n",
        "        self.wfile.write(bytes(\"</body></html>\", \"utf-8\"))\n",
        "\n",
        "if __name__ == \"__main__\":        \n",
        "    webServer = HTTPServer((hostName, serverPort), MyServer)\n",
        "    print(\"Server started http://%s:%s\" % (hostName, serverPort))\n",
        "\n",
        "    try:\n",
        "        webServer.serve_forever()\n",
        "    except KeyboardInterrupt:\n",
        "        pass\n",
        "\n",
        "    webServer.server_close()\n",
        "    print(\"Server stopped.\")\n",
        "```"
      ],
      "metadata": {
        "id": "bcdIUYO6KNru"
      }
    },
    {
      "cell_type": "markdown",
      "source": [
        "## 4. Creating a systemd service\n",
        "\n",
        "We can add a systemd service to launch our webserver on boot.\n",
        "\n",
        "```systemd\n",
        "[Unit]\n",
        "Description=?SERV_DESC?\n",
        "After=multi-user.target\n",
        "\n",
        "[Service]\n",
        "Type=idle\n",
        "RemainAfterExit=no\n",
        "ExecStart=/usr/bin/feira-webserver.py\n",
        "\n",
        "[Install]\n",
        "WantedBy=multi-user.target\n",
        "\n",
        "```\n",
        "\n"
      ],
      "metadata": {
        "id": "e7El7vSYKstd"
      }
    },
    {
      "cell_type": "markdown",
      "source": [
        "## 5. Create a recipe for our software\n",
        "\n",
        "```bitbake\n",
        "DESCRIPTION = \"Example Web Server for Yocto Workshop\"\n",
        "SUMMARY = \"${DESCRIPTION}\"\n",
        "LICENSE = \"CLOSED\"\n",
        "LIC_FILES_CHKSUM = \"\"\n",
        "\n",
        "inherit systemd\n",
        "\n",
        "SRC_URI = \" \\\n",
        "\tfile://${BPN}.py \\\n",
        "\tfile://${BPN}.service \\\n",
        "\t\"\n",
        "\n",
        "SYSTEMD_AUTO_ENABLE = \"enable\"\n",
        "SYSTEMD_PACKAGES:append = \" ${PN}\"\n",
        "SYSTEMD_SERVICE_${PN} = \"${PN}.service\"\n",
        "\n",
        "RDEPENDS:${PN} = \"python3-core python3-netclient python3-netserver\"\n",
        "\n",
        "\n",
        "do_install () {\n",
        "    sed -i 's/?\\(SERV_DESC\\)?/'\"${SUMMARY}\"'/' ${WORKDIR}/${PN}.service\n",
        "\n",
        "\tinstall -d ${D}${bindir}/\n",
        "\tinstall -m 0755 ${WORKDIR}/${PN}.py ${D}${bindir}/\n",
        "\n",
        "\tinstall -d ${D}/${systemd_unitdir}/system\n",
        "    install -d ${D}${sysconfdir}/systemd/system/multi-user.target.wants/\n",
        "    install -m 0644 ${WORKDIR}/${PN}.service ${D}/${systemd_unitdir}/system\n",
        "\n",
        "\tln -sf ${systemd_unitdir}/system/${PN}.service ${D}${sysconfdir}/systemd/system/multi-user.target.wants/${PN}.service\n",
        "}\n",
        "\n",
        "FILES:${PN} += \"${systemd_unitdir}/system/*.service ${sysconfdir}\"\n",
        "```"
      ],
      "metadata": {
        "id": "c6eCRbxtLG-v"
      }
    },
    {
      "cell_type": "markdown",
      "source": [
        "## 6. Update your build\n",
        "\n",
        "Change the init system to systemd\n",
        "```bitbake\n",
        "DISTRO_FEATURES:append = \" systemd\"\n",
        "DISTRO_FEATURES_BACKFILL_CONSIDERED = \"sysvinit\"\n",
        "VIRTUAL-RUNTIME_init_manager = \"systemd\"\n",
        "```\n",
        "Add your newly created package to `local.conf`\n",
        "```bitbake\n",
        "IMAGE_INSTALL:append = \" feira-webserver\"\n",
        "```"
      ],
      "metadata": {
        "id": "F88wrAyxLiVi"
      }
    },
    {
      "cell_type": "markdown",
      "source": [
        "## 7. Rebuild your images\n",
        "\n",
        "```shell\n",
        "$ bitbake rpi-test-image\n",
        "$ # or\n",
        "$ bitbake core-image-minimal\n",
        "```"
      ],
      "metadata": {
        "id": "7O2Xfa0RL15G"
      }
    }
  ]
}